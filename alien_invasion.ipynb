{
 "cells": [
  {
   "cell_type": "code",
   "execution_count": 1,
   "metadata": {},
   "outputs": [
    {
     "name": "stdout",
     "output_type": "stream",
     "text": [
      "pygame 2.5.2 (SDL 2.28.3, Python 3.11.6)\n",
      "Hello from the pygame community. https://www.pygame.org/contribute.html\n"
     ]
    },
    {
     "ename": "SystemExit",
     "evalue": "",
     "output_type": "error",
     "traceback": [
      "An exception has occurred, use %tb to see the full traceback.\n",
      "\u001b[0;31mSystemExit\u001b[0m\n"
     ]
    },
    {
     "name": "stderr",
     "output_type": "stream",
     "text": [
      "/Users/lunaflorestorres/.pyenv/versions/3.11.6/lib/python3.11/site-packages/IPython/core/interactiveshell.py:3585: UserWarning: To exit: use 'exit', 'quit', or Ctrl-D.\n",
      "  warn(\"To exit: use 'exit', 'quit', or Ctrl-D.\", stacklevel=1)\n"
     ]
    },
    {
     "ename": "",
     "evalue": "",
     "output_type": "error",
     "traceback": [
      "\u001b[1;31mEl kernel se bloqueó al ejecutar código en la celda actual o en una celda anterior. \n",
      "\u001b[1;31mRevise el código de las celdas para identificar una posible causa del error. \n",
      "\u001b[1;31mHaga clic <a href='https://aka.ms/vscodeJupyterKernelCrash'>aquí</a> para obtener más información. \n",
      "\u001b[1;31mVea Jupyter <a href='command:jupyter.viewOutput'>log</a> para obtener más detalles."
     ]
    }
   ],
   "source": [
    "import pygame\n",
    "from pygame.sprite import Group\n",
    "\n",
    "from settings import Settings\n",
    "from game_stats import GameStats\n",
    "from scoreboard import Scoreboard\n",
    "from button import Button\n",
    "from ship import Ship\n",
    "import game_functions as gf\n",
    "\n",
    "\n",
    "def run_game():\n",
    "    ''' Inicializar pygame, configuración y objeto pantalla'''\n",
    "    pygame.init()\n",
    "    ai_settings = Settings()\n",
    "    screen = pygame.display.set_mode(\n",
    "        (ai_settings.screen_width, ai_settings.screen_height)\n",
    "    )\n",
    "    pygame.display.set_caption(\"Alien Invasion\")\n",
    "\n",
    "    # Crear el botón de Play\n",
    "    play_button = Button(ai_settings, screen, \"Play\")\n",
    "\n",
    "    #  Crear una instancia para almacenar las estadísticas del juego, y un marcador\n",
    "    stats = GameStats(ai_settings)\n",
    "    sb = Scoreboard(ai_settings, screen, stats)\n",
    "\n",
    "    # Crear el color del fondo\n",
    "    bg_color = (230, 230, 230)\n",
    "\n",
    "    # Crear una nave, un grupo de balas y un grupo de alienígenas\n",
    "    ship = Ship(ai_settings, screen)\n",
    "    bullets = Group()\n",
    "    aliens = Group()\n",
    "\n",
    "    # Crear la flota de alienígenas\n",
    "    gf.create_fleet(ai_settings, screen, ship, aliens)\n",
    "\n",
    "    # Inicia el bucle principal del juego\n",
    "    while True:\n",
    "        gf.check_events(\n",
    "            ai_settings, screen, stats, sb, play_button, ship, aliens, bullets\n",
    "        )\n",
    "\n",
    "        if stats.game_active:\n",
    "            ship.update()\n",
    "            gf.update_bullets(ai_settings, screen, stats, sb, ship, aliens, bullets)\n",
    "            gf.update_aliens(ai_settings, screen, stats, sb, ship, aliens, bullets)\n",
    "\n",
    "        gf.update_screen(\n",
    "            ai_settings, screen, stats, sb, ship, aliens, bullets, play_button\n",
    "        )\n",
    "\n",
    "\n",
    "run_game()\n",
    "\n",
    "\n"
   ]
  }
 ],
 "metadata": {
  "kernelspec": {
   "display_name": "Python 3",
   "language": "python",
   "name": "python3"
  },
  "language_info": {
   "codemirror_mode": {
    "name": "ipython",
    "version": 3
   },
   "file_extension": ".py",
   "mimetype": "text/x-python",
   "name": "python",
   "nbconvert_exporter": "python",
   "pygments_lexer": "ipython3",
   "version": "3.11.6"
  }
 },
 "nbformat": 4,
 "nbformat_minor": 2
}
