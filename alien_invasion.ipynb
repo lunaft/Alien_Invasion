{
 "cells": [
  {
   "cell_type": "code",
   "execution_count": 1,
   "metadata": {},
   "outputs": [
    {
     "name": "stdout",
     "output_type": "stream",
     "text": [
      "pygame 2.5.2 (SDL 2.28.3, Python 3.11.6)\n",
      "Hello from the pygame community. https://www.pygame.org/contribute.html\n"
     ]
    },
    {
     "ename": "KeyboardInterrupt",
     "evalue": "",
     "output_type": "error",
     "traceback": [
      "\u001b[0;31m---------------------------------------------------------------------------\u001b[0m",
      "\u001b[0;31mKeyboardInterrupt\u001b[0m                         Traceback (most recent call last)",
      "Cell \u001b[0;32mIn[1], line 55\u001b[0m\n\u001b[1;32m     48\u001b[0m             gf\u001b[38;5;241m.\u001b[39mupdate_aliens(ai_settings, screen, stats, sb, ship, aliens, bullets)\n\u001b[1;32m     50\u001b[0m         gf\u001b[38;5;241m.\u001b[39mupdate_screen(\n\u001b[1;32m     51\u001b[0m             ai_settings, screen, stats, sb, ship, aliens, bullets, play_button\n\u001b[1;32m     52\u001b[0m         )\n\u001b[0;32m---> 55\u001b[0m \u001b[43mrun_game\u001b[49m\u001b[43m(\u001b[49m\u001b[43m)\u001b[49m\n",
      "Cell \u001b[0;32mIn[1], line 50\u001b[0m, in \u001b[0;36mrun_game\u001b[0;34m()\u001b[0m\n\u001b[1;32m     47\u001b[0m     gf\u001b[38;5;241m.\u001b[39mupdate_bullets(ai_settings, screen, stats, sb, ship, aliens, bullets)\n\u001b[1;32m     48\u001b[0m     gf\u001b[38;5;241m.\u001b[39mupdate_aliens(ai_settings, screen, stats, sb, ship, aliens, bullets)\n\u001b[0;32m---> 50\u001b[0m \u001b[43mgf\u001b[49m\u001b[38;5;241;43m.\u001b[39;49m\u001b[43mupdate_screen\u001b[49m\u001b[43m(\u001b[49m\n\u001b[1;32m     51\u001b[0m \u001b[43m    \u001b[49m\u001b[43mai_settings\u001b[49m\u001b[43m,\u001b[49m\u001b[43m \u001b[49m\u001b[43mscreen\u001b[49m\u001b[43m,\u001b[49m\u001b[43m \u001b[49m\u001b[43mstats\u001b[49m\u001b[43m,\u001b[49m\u001b[43m \u001b[49m\u001b[43msb\u001b[49m\u001b[43m,\u001b[49m\u001b[43m \u001b[49m\u001b[43mship\u001b[49m\u001b[43m,\u001b[49m\u001b[43m \u001b[49m\u001b[43maliens\u001b[49m\u001b[43m,\u001b[49m\u001b[43m \u001b[49m\u001b[43mbullets\u001b[49m\u001b[43m,\u001b[49m\u001b[43m \u001b[49m\u001b[43mplay_button\u001b[49m\n\u001b[1;32m     52\u001b[0m \u001b[43m\u001b[49m\u001b[43m)\u001b[49m\n",
      "File \u001b[0;32m~/Desktop/alien_invasion/Alien_Invasion/game_functions.py:113\u001b[0m, in \u001b[0;36mupdate_screen\u001b[0;34m(ai_settings, screen, stats, sb, ship, aliens, bullets, play_button)\u001b[0m\n\u001b[1;32m    110\u001b[0m     play_button\u001b[38;5;241m.\u001b[39mdraw_button()\n\u001b[1;32m    112\u001b[0m \u001b[38;5;66;03m# Hacer visible la pantalla dibujada más recientemente\u001b[39;00m\n\u001b[0;32m--> 113\u001b[0m \u001b[43mpygame\u001b[49m\u001b[38;5;241;43m.\u001b[39;49m\u001b[43mdisplay\u001b[49m\u001b[38;5;241;43m.\u001b[39;49m\u001b[43mflip\u001b[49m\u001b[43m(\u001b[49m\u001b[43m)\u001b[49m\n",
      "\u001b[0;31mKeyboardInterrupt\u001b[0m: "
     ]
    },
    {
     "ename": "",
     "evalue": "",
     "output_type": "error",
     "traceback": [
      "\u001b[1;31mEl kernel se bloqueó al ejecutar código en la celda actual o en una celda anterior. \n",
      "\u001b[1;31mRevise el código de las celdas para identificar una posible causa del error. \n",
      "\u001b[1;31mHaga clic <a href='https://aka.ms/vscodeJupyterKernelCrash'>aquí</a> para obtener más información. \n",
      "\u001b[1;31mVea Jupyter <a href='command:jupyter.viewOutput'>log</a> para obtener más detalles."
     ]
    }
   ],
   "source": [
    "import pygame\n",
    "from pygame.sprite import Group\n",
    "\n",
    "from settings import Settings\n",
    "from game_stats import GameStats\n",
    "from scoreboard import Scoreboard\n",
    "from button import Button\n",
    "from ship import Ship\n",
    "import game_functions as gf\n",
    "\n",
    "\n",
    "def run_game():\n",
    "    ''' Inicializar pygame, configuración y objeto pantalla'''\n",
    "    pygame.init()\n",
    "    ai_settings = Settings()\n",
    "    screen = pygame.display.set_mode(\n",
    "        (ai_settings.screen_width, ai_settings.screen_height)\n",
    "    )\n",
    "    pygame.display.set_caption(\"Alien Invasion\")\n",
    "\n",
    "    # Crear el botón de Play\n",
    "    play_button = Button(ai_settings, screen, \"Play\")\n",
    "\n",
    "    #  Crear una instancia para almacenar las estadísticas del juego, y un marcador\n",
    "    stats = GameStats(ai_settings)\n",
    "    sb = Scoreboard(ai_settings, screen, stats)\n",
    "\n",
    "    # Crear el color del fondo\n",
    "    bg_color = (230, 230, 230)\n",
    "\n",
    "    # Crear una nave, un grupo de balas y un grupo de alienígenas\n",
    "    ship = Ship(ai_settings, screen)\n",
    "    bullets = Group()\n",
    "    aliens = Group()\n",
    "\n",
    "    # Crear la flota de alienígenas\n",
    "    gf.create_fleet(ai_settings, screen, ship, aliens)\n",
    "\n",
    "    # Inicia el bucle principal del juego\n",
    "    while True:\n",
    "        gf.check_events(\n",
    "            ai_settings, screen, stats, sb, play_button, ship, aliens, bullets\n",
    "        )\n",
    "\n",
    "        if stats.game_active:\n",
    "            ship.update()\n",
    "            gf.update_bullets(ai_settings, screen, stats, sb, ship, aliens, bullets)\n",
    "            gf.update_aliens(ai_settings, screen, stats, sb, ship, aliens, bullets)\n",
    "\n",
    "        gf.update_screen(\n",
    "            ai_settings, screen, stats, sb, ship, aliens, bullets, play_button\n",
    "        )\n",
    "\n",
    "\n",
    "run_game()\n",
    "\n",
    "\n"
   ]
  }
 ],
 "metadata": {
  "kernelspec": {
   "display_name": "Python 3",
   "language": "python",
   "name": "python3"
  },
  "language_info": {
   "codemirror_mode": {
    "name": "ipython",
    "version": 3
   },
   "file_extension": ".py",
   "mimetype": "text/x-python",
   "name": "python",
   "nbconvert_exporter": "python",
   "pygments_lexer": "ipython3",
   "version": "3.11.6"
  }
 },
 "nbformat": 4,
 "nbformat_minor": 2
}
